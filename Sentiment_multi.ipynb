{
  "cells": [
    {
      "cell_type": "code",
      "source": [
        "!pip install --upgrade pip"
      ],
      "metadata": {
        "colab": {
          "base_uri": "https://localhost:8080/"
        },
        "id": "fS_4whd9CCu2",
        "outputId": "46d99420-a97f-4c8d-c27d-d06676d244df"
      },
      "execution_count": null,
      "outputs": [
        {
          "output_type": "stream",
          "name": "stdout",
          "text": [
            "Requirement already satisfied: pip in /usr/local/lib/python3.10/dist-packages (23.1.2)\n",
            "Collecting pip\n",
            "  Downloading pip-24.1.2-py3-none-any.whl (1.8 MB)\n",
            "\u001b[2K     \u001b[90m━━━━━━━━━━━━━━━━━━━━━━━━━━━━━━━━━━━━━━━━\u001b[0m \u001b[32m1.8/1.8 MB\u001b[0m \u001b[31m23.7 MB/s\u001b[0m eta \u001b[36m0:00:00\u001b[0m\n",
            "\u001b[?25hInstalling collected packages: pip\n",
            "  Attempting uninstall: pip\n",
            "    Found existing installation: pip 23.1.2\n",
            "    Uninstalling pip-23.1.2:\n",
            "      Successfully uninstalled pip-23.1.2\n",
            "Successfully installed pip-24.1.2\n"
          ]
        }
      ]
    },
    {
      "cell_type": "markdown",
      "metadata": {
        "id": "oPUBGJEMK-ia"
      },
      "source": [
        "**MUTLICLASS SENTIMENT CLASSIFICATION WITH RANDOFOREST**"
      ]
    },
    {
      "cell_type": "code",
      "source": [
        "import pandas as pd\n",
        "from sklearn.ensemble import RandomForestClassifier\n",
        "from sklearn.feature_extraction.text import TfidfVectorizer\n",
        "from sklearn.metrics import accuracy_score, classification_report\n",
        "\n",
        "# Load the train and test datasets\n",
        "train_file = '/content/train.csv'\n",
        "test_file = '/content/test.csv'\n",
        "\n",
        "# Read the datasets\n",
        "df_train = pd.read_csv(train_file)\n",
        "df_test = pd.read_csv(test_file)\n",
        "\n",
        "# Ensure there are no leading/trailing spaces in column names\n",
        "df_train.columns = df_train.columns.str.strip().str.replace('\"', '')\n",
        "df_test.columns = df_test.columns.str.strip().str.replace('\"', '')\n",
        "\n",
        "# Define the target columns and prepare the data\n",
        "target_columns = ['toxic', 'severe_toxic', 'obscene', 'threat', 'insult', 'identity_hate']\n",
        "X_train = df_train['comment_text'].fillna('').astype(str)  # Replace NaN in comments with empty string and ensure all are strings\n",
        "X_test = df_test['comment_text'].fillna('').astype(str)\n",
        "\n",
        "# Ensure the target columns are present in the training dataset\n",
        "for col in target_columns:\n",
        "    if col not in df_train.columns:\n",
        "        raise KeyError(f\"Column {col} not found in train dataset\")\n",
        "\n",
        "# Convert text data to TF-IDF features\n",
        "vectorizer = TfidfVectorizer(max_features=10000)\n",
        "X_train_tfidf = vectorizer.fit_transform(X_train)\n",
        "X_test_tfidf = vectorizer.transform(X_test)\n",
        "\n",
        "# Combine the target columns into a single column for multiclass classification\n",
        "df_train['combined_target'] = df_train[target_columns].astype(str).agg('-'.join, axis=1)\n",
        "\n",
        "y_train = df_train['combined_target']\n",
        "\n",
        "# Initialize and train a Random Forest classifier\n",
        "clf = RandomForestClassifier(n_estimators=100, random_state=42)\n",
        "clf.fit(X_train_tfidf, y_train)\n",
        "\n",
        "# Predict on the test dataset\n",
        "y_pred = clf.predict(X_test_tfidf)\n",
        "\n",
        "# Create a DataFrame for the predictions\n",
        "df_predictions = pd.DataFrame({'id': df_test['id'], 'predicted': y_pred})\n",
        "\n",
        "# Save the predictions to a CSV file\n",
        "df_predictions.to_csv('random_forest_multiclass_predictions.csv', index=False)\n",
        "\n",
        "print(\"Predictions saved to random_forest_multiclass_predictions.csv\")\n"
      ],
      "metadata": {
        "colab": {
          "base_uri": "https://localhost:8080/"
        },
        "id": "CLONqBOzQAYb",
        "outputId": "72712ca3-c187-4ab3-a3d2-a389b13fe2ba"
      },
      "execution_count": null,
      "outputs": [
        {
          "output_type": "stream",
          "name": "stdout",
          "text": [
            "Predictions saved to random_forest_multiclass_predictions.csv\n"
          ]
        }
      ]
    },
    {
      "cell_type": "markdown",
      "source": [
        "**Formating the Results**"
      ],
      "metadata": {
        "id": "OjmaozJYOk30"
      }
    },
    {
      "cell_type": "code",
      "source": [
        "import pandas as pd\n",
        "\n",
        "# Load the predictions\n",
        "predictions_file = '/content/random_forest_multiclass_predictions.csv'\n",
        "df_predictions = pd.read_csv(predictions_file)\n",
        "\n",
        "# Display the first few rows of the predictions to understand the output\n",
        "print(df_predictions.head())\n",
        "\n",
        "# Split the combined predictions back into individual labels\n",
        "target_columns = ['toxic', 'severe_toxic', 'obscene', 'threat', 'insult', 'identity_hate']\n",
        "df_predictions[target_columns] = df_predictions['predicted'].str.split('-', expand=True)\n",
        "\n",
        "# Convert the split columns back to integer type\n",
        "for col in target_columns:\n",
        "    df_predictions[col] = df_predictions[col].astype(int)\n",
        "\n",
        "# Display the first few rows of the predictions with individual labels\n",
        "print(df_predictions.head())\n",
        "\n",
        "# Analyze the distribution of predictions for each label\n",
        "print(df_predictions[target_columns].sum())\n",
        "\n",
        "# Save the detailed predictions to a new CSV file\n",
        "df_predictions.to_csv('detailed_multiclass_predictions.csv', index=False)\n",
        "\n",
        "print(\"Detailed predictions saved to detailed_multiclass_predictions.csv\")\n"
      ],
      "metadata": {
        "colab": {
          "base_uri": "https://localhost:8080/"
        },
        "id": "PZSl84V5Wfe2",
        "outputId": "1c760d9d-6509-4f4c-e288-b74fb2ac601a"
      },
      "execution_count": null,
      "outputs": [
        {
          "output_type": "stream",
          "name": "stdout",
          "text": [
            "                 id    predicted\n",
            "0  00001cee341fdb12  1-0-1-0-1-0\n",
            "1  0000247867823ef7  0-0-0-0-0-0\n",
            "2  00013b17ad220c46  0-0-0-0-0-0\n",
            "3  00017563c3f7919a  0-0-0-0-0-0\n",
            "4  00017695ad8997eb  0-0-0-0-0-0\n",
            "                 id    predicted  toxic  severe_toxic  obscene  threat  \\\n",
            "0  00001cee341fdb12  1-0-1-0-1-0      1             0        1       0   \n",
            "1  0000247867823ef7  0-0-0-0-0-0      0             0        0       0   \n",
            "2  00013b17ad220c46  0-0-0-0-0-0      0             0        0       0   \n",
            "3  00017563c3f7919a  0-0-0-0-0-0      0             0        0       0   \n",
            "4  00017695ad8997eb  0-0-0-0-0-0      0             0        0       0   \n",
            "\n",
            "   insult  identity_hate  \n",
            "0       1              0  \n",
            "1       0              0  \n",
            "2       0              0  \n",
            "3       0              0  \n",
            "4       0              0  \n",
            "toxic            16601\n",
            "severe_toxic       691\n",
            "obscene          13563\n",
            "threat              97\n",
            "insult           11442\n",
            "identity_hate      387\n",
            "dtype: int64\n",
            "Detailed predictions saved to detailed_multiclass_predictions.csv\n"
          ]
        }
      ]
    }
  ],
  "metadata": {
    "colab": {
      "provenance": []
    },
    "kernelspec": {
      "display_name": "Python 3",
      "name": "python3"
    },
    "language_info": {
      "name": "python"
    }
  },
  "nbformat": 4,
  "nbformat_minor": 0
}